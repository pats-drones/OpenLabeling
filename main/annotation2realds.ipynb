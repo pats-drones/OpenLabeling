{
 "cells": [
  {
   "cell_type": "code",
   "execution_count": 2,
   "metadata": {},
   "outputs": [],
   "source": [
    "import os, glob\n",
    "import pandas as pd\n",
    "\n"
   ]
  },
  {
   "cell_type": "code",
   "execution_count": 6,
   "metadata": {},
   "outputs": [],
   "source": [
    "dataset_root = \"/home/pats/Documents/datasets/Completed_dataset\"\n",
    "csv_with_files_path = \"/home/pats/Documents/datasets/contains_moth.csv\"\n",
    "df = pd.read_csv(csv_with_files_path, sep=\",\", names=[\"path\", \"contains_moth\", \"contains_drone\", \"autolabel\"])\n",
    "df_contain_moth = df[(df[\"contains_moth\"] == 1) | df[\"contains_drone\"] == 1]\n",
    "all_video_files = df_contain_moth[\"path\"].values"
   ]
  },
  {
   "cell_type": "code",
   "execution_count": 8,
   "metadata": {},
   "outputs": [
    {
     "output_type": "execute_result",
     "data": {
      "text/plain": "(480, 1696, 3)"
     },
     "metadata": {},
     "execution_count": 8
    }
   ],
   "source": [
    "import cv2\n",
    "\n",
    "image = cv2.imread(\"/home/pats/Documents/datasets/holstein/00099/logging/insect0_mkv/insect0_mkv_5.jpg\")\n",
    "image.shape"
   ]
  },
  {
   "cell_type": "code",
   "execution_count": null,
   "metadata": {},
   "outputs": [],
   "source": []
  }
 ],
 "metadata": {
  "language_info": {
   "codemirror_mode": {
    "name": "ipython",
    "version": 3
   },
   "file_extension": ".py",
   "mimetype": "text/x-python",
   "name": "python",
   "nbconvert_exporter": "python",
   "pygments_lexer": "ipython3",
   "version": "3.7.0-final"
  },
  "orig_nbformat": 2,
  "kernelspec": {
   "name": "python37064bita67030a944b2498480f3260102f62089",
   "display_name": "Python 3.7.0 64-bit"
  }
 },
 "nbformat": 4,
 "nbformat_minor": 2
}