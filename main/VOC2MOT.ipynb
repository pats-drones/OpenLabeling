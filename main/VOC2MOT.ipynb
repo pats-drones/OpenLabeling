{
 "cells": [
  {
   "cell_type": "code",
   "execution_count": 2,
   "metadata": {},
   "outputs": [],
   "source": [
    "import os, glob\n",
    "from lxml import etree\n",
    "import xml.etree.cElementTree as ET\n",
    "import re\n",
    "\n",
    "VOC_ROOT = \"/home/pats/Documents/annotation/OpenLabeling/main/output/PASCAL_VOC\"\n",
    "output_root = \"/home/pats/Documents/annotation/OpenLabeling/main/output/MOT\""
   ]
  },
  {
   "cell_type": "code",
   "execution_count": 3,
   "metadata": {},
   "outputs": [],
   "source": [
    "def get_xml_object_data(obj):\n",
    "    class_name = obj.find('name').text\n",
    "    class_index = 1\n",
    "    bndbox = obj.find('bndbox')\n",
    "    xmin = int(float(bndbox.find('xmin').text))\n",
    "    xmax = int(float(bndbox.find('xmax').text))\n",
    "    ymin = int(float(bndbox.find('ymin').text))\n",
    "    ymax = int(float(bndbox.find('ymax').text))\n",
    "    return [class_name, class_index, xmin, ymin, xmax, ymax]\n",
    "\n",
    "def natural_sort(l): \n",
    "    convert = lambda text: int(text) if text.isdigit() else text.lower() \n",
    "    alphanum_key = lambda key: [ convert(c) for c in re.split('([0-9]+)', key) ] \n",
    "    return sorted(l, key = alphanum_key)"
   ]
  },
  {
   "cell_type": "code",
   "execution_count": 4,
   "metadata": {},
   "outputs": [],
   "source": [
    "xml_files = glob.glob(VOC_ROOT + \"/*\")"
   ]
  },
  {
   "cell_type": "code",
   "execution_count": 5,
   "metadata": {
    "tags": []
   },
   "outputs": [],
   "source": [
    "for xml_file in natural_sort(xml_files):\n",
    "    if os.path.isfile(xml_file):\n",
    "        new_file_name = os.path.basename(xml_file.replace(\"xml\", \"txt\"))\n",
    "        new_file_path = os.path.join(output_root, new_file_name)\n",
    "\n",
    "        tree = ET.parse(xml_file)\n",
    "        annotation = tree.getroot()\n",
    "        frame_num = re.findall(\"\\d+(?=.xml)\", xml_file)[0]\n",
    "        track_id = 1\n",
    "        file_content = \"\"\n",
    "        for idx, obj in enumerate(annotation.findall('object')):\n",
    "            \n",
    "            class_name, class_index, xmin, ymin, xmax, ymax = get_xml_object_data(obj)\n",
    "            width = xmax - xmin\n",
    "            height = ymax - ymin\n",
    "            line = f\"{frame_num}, {track_id}, {xmin}, {ymin}, {width}, {height}, -1, -1, -1, -1\\n\"\n",
    "            track_id += 1\n",
    "            file_content += line\n",
    "\n",
    "        with open(new_file_path, \"w\") as w:\n",
    "            w.write(file_content)"
   ]
  },
  {
   "cell_type": "code",
   "execution_count": null,
   "metadata": {},
   "outputs": [],
   "source": []
  }
 ],
 "metadata": {
  "language_info": {
   "codemirror_mode": {
    "name": "ipython",
    "version": 3
   },
   "file_extension": ".py",
   "mimetype": "text/x-python",
   "name": "python",
   "nbconvert_exporter": "python",
   "pygments_lexer": "ipython3",
   "version": "3.7.0-final"
  },
  "orig_nbformat": 2,
  "kernelspec": {
   "name": "python37064bita67030a944b2498480f3260102f62089",
   "display_name": "Python 3.7.0 64-bit"
  }
 },
 "nbformat": 4,
 "nbformat_minor": 2
}